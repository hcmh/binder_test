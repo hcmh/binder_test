{
 "cells": [
  {
   "cell_type": "markdown",
   "metadata": {},
   "source": [
    "# BART Tutorial: Subspace-Constrained Reconstruction of Frequency-Modulated SSFP Data\n",
    "\n",
    "This notebook demonstrates how to use BART to\n",
    "perform a subspace-constrained reconstruction in the style of\n",
    "\n",
    "Roeloffs, Volkert, et al. \"Frequency‐modulated SSFP with radial sampling and subspace reconstruction: A time‐efficient alternative to phase‐cycled bSSFP.\" Magnetic resonance in medicine 81.3 (2019): 1566-1579.\n",
    "\n",
    "\n",
    "Note: Run this notebook with a bash kernel.\n",
    "\n",
    "Volkert Roeloffs, University Medical Center Göttingen (volkert.roeloffs@med.uni-goettingen.de)\n",
    "\n",
    "March 2021\n",
    "\n",
    "# 1. Prerequisites\n",
    "\n",
    "Make sure these paths are set correctly\n",
    "\n",
    "`TOOLBOX_PATH=/path/to/bart`\n",
    "\n",
    "`PATH=$TOOLBOX_PATH:$PATH`"
   ]
  },
  {
   "cell_type": "code",
   "execution_count": null,
   "metadata": {},
   "outputs": [],
   "source": [
    "# check bart availability and version - we recommend the most updated version (v0.7.00)\n",
    "bart version"
   ]
  },
  {
   "cell_type": "code",
   "execution_count": null,
   "metadata": {},
   "outputs": [],
   "source": [
    "# helper BASH function to write BART file to png,\n",
    "# display both, magnitude and phase\n",
    "\n",
    "function imshow () {\n",
    "    cfl2png -CM $1 magn > /dev/null\n",
    "    cfl2png -CP $1 phas > /dev/null\n",
    "\n",
    "    cat magn_.png | display\n",
    "    cat phas_.png | display\n",
    "}\n",
    "\n",
    "function show_timesteps () {\n",
    "\n",
    "    data=$1\n",
    "    shift\n",
    "    pos=(\"$@\")\n",
    "\n",
    "    ind=0\n",
    "\n",
    "    for t in \"${pos[@]}\"\n",
    "    do\n",
    "       bart slice 5 $t $data _slice$ind\n",
    "       ind=$((ind+1))\n",
    "    done\n",
    "\n",
    "    bart join 6 `seq -f \"_slice%g\" 0 $((ind-1))` _slices\n",
    "    DIM=`bart show -d 0 _slices`\n",
    "    bart reshape $(bart bitmask 0 6) $((DIM*ind)) 1 {_,}slices\n",
    "\n",
    "    imshow slices\n",
    "}"
   ]
  },
  {
   "cell_type": "markdown",
   "metadata": {},
   "source": [
    "# 2. Raw data"
   ]
  },
  {
   "cell_type": "markdown",
   "metadata": {},
   "source": [
    "## 2.1 Loading Raw data\n",
    "In the original publication 3D stack-of-stars encoded data sets are reconstructed. For demonstration purposes, we consider here only a single slice as obtained after inverse Fourier transforming along partition encoding direction."
   ]
  },
  {
   "cell_type": "code",
   "execution_count": null,
   "metadata": {},
   "outputs": [],
   "source": [
    "wget -q https://zenodo.org/record/4060287/files/fmSSFP.cfl\n",
    "wget -q https://zenodo.org/record/4060287/files/fmSSFP.hdr\n",
    "\n",
    "bart show -m fmSSFP\n",
    "PHS1=`bart show -d 1 fmSSFP`\n",
    "SPOKES=`bart show -d 2 fmSSFP`\n",
    "COILS=`bart show -d 3 fmSSFP`"
   ]
  },
  {
   "cell_type": "markdown",
   "metadata": {},
   "source": [
    "## 2.2 Visualizing raw data"
   ]
  },
  {
   "cell_type": "code",
   "execution_count": null,
   "metadata": {
    "scrolled": false
   },
   "outputs": [],
   "source": [
    "bart reshape `bart bitmask 1 3` $((PHS1*COILS)) 1 fmSSFP tmp\n",
    "imshow tmp"
   ]
  },
  {
   "cell_type": "markdown",
   "metadata": {},
   "source": [
    "# 3. Reconstruction in Subspace"
   ]
  },
  {
   "cell_type": "markdown",
   "metadata": {},
   "source": [
    "## 3.1 Generation of low-frequency Fourier basis"
   ]
  },
  {
   "cell_type": "code",
   "execution_count": null,
   "metadata": {},
   "outputs": [],
   "source": [
    "P=4 # subspace size\n",
    "\n",
    "bart delta 16 $(bart bitmask 5 6) $P eye\n",
    "bart crop 6 $P eye eye_c \n",
    "bart resize -c 5 $SPOKES eye_c eye_cl\n",
    "bart fft -u $(bart bitmask 5) eye_cl basis"
   ]
  },
  {
   "cell_type": "markdown",
   "metadata": {},
   "source": [
    "## 3.2 Subspace-constrained reconstruction"
   ]
  },
  {
   "cell_type": "markdown",
   "metadata": {},
   "source": [
    "### 3.2.1 Generate radial, turn-based trajectory corrected for gradient delays"
   ]
  },
  {
   "cell_type": "code",
   "execution_count": null,
   "metadata": {},
   "outputs": [],
   "source": [
    "SPT=$((SPOKES/P)) # spokes per turn\n",
    "\n",
    "GD=\"0.114442:0.058800:-0.068824\"\n",
    "# gradient delays were determined with RING (Rosenzweig et al., 2018) \n",
    "# on the DC partition of the full 3D stack-of-stars data \n",
    "\n",
    "bart traj -q$GD -r -c -D -x$PHS1 -y$SPT traj_st_1\n",
    "bart repmat 3 $P traj_st_1 traj_f_1\n",
    "bart reshape $(bart bitmask 2 3) $SPOKES 1 traj_f_1 traj_1"
   ]
  },
  {
   "cell_type": "markdown",
   "metadata": {},
   "source": [
    "### 3.2.2 Channel compression, inverse nuFFT and ESPIRIT"
   ]
  },
  {
   "cell_type": "code",
   "execution_count": null,
   "metadata": {},
   "outputs": [],
   "source": [
    "VCOILS=10\n",
    "\n",
    "# perform channel compression on combined data\n",
    "bart cc -p$VCOILS -A -S fmSSFP meas_cc\n",
    "    \n",
    "# apply inverse nufft \n",
    "bart nufft -i -d$PHS1:$PHS1:1 traj_1 meas_cc img\n",
    "    \n",
    "# transform back to k-space and compute sensitivities\n",
    "bart fft -u $(bart bitmask 0 1 2) img ksp\n",
    "\n",
    "# transpose because we already support off-center calibration region\n",
    "# in dim 0 but here we might have it in 2\n",
    "bart transpose 0 2 ksp ksp2\n",
    "bart ecalib -S -t0.01 -m1 ksp2 sens2\n",
    "bart transpose 0 2 sens2 sens"
   ]
  },
  {
   "cell_type": "markdown",
   "metadata": {},
   "source": [
    "### 3.2.3 Bringing it all together: Use basis and sensitivities for subspace-constrained reconstruction"
   ]
  },
  {
   "cell_type": "code",
   "execution_count": null,
   "metadata": {},
   "outputs": [],
   "source": [
    "REG=0.002\n",
    "LLRBLK=8\n",
    "ITERATIONS=100\n",
    "\n",
    "# transform data\n",
    "bart transpose 2 5 meas_cc meas_t\n",
    "bart transpose 2 5 traj_1 traj_t\n",
    "\n",
    "# reconstruction with subspace constraint\n",
    "bart pics -SeH -d5 -R L:3:3:$REG -i$ITERATIONS -t traj_t -B basis meas_t sens out\n",
    "\n",
    "# flags:\n",
    "#        -S rescale image after reconstruction\n",
    "#        -e scale stepsize based on maximal eigenvalue\n",
    "#        -H hidden option \"hogwild\", allowing asynchronous updates \n",
    "#        -R L:3:3 "
   ]
  },
  {
   "cell_type": "code",
   "execution_count": null,
   "metadata": {},
   "outputs": [],
   "source": [
    "# crop, transpose, flip to resize FoV and get anatomically correct orientation\n",
    "READ_NOOS=$((PHS1/2))\n",
    "bart crop 0 $READ_NOOS out out_c\n",
    "bart crop 1 $READ_NOOS out_c out_cc\n",
    "bart transpose 0 1 out_cc _tmp\n",
    "bart flip `bart bitmask 0` _tmp __tmp\n",
    "\n",
    "bart reshape `bart bitmask 0 6` $((READ_NOOS*4)) 1 __tmp tmp\n",
    "imshow tmp"
   ]
  },
  {
   "cell_type": "code",
   "execution_count": null,
   "metadata": {},
   "outputs": [],
   "source": [
    "# generate composite image by combining subspace coefficients in root-of-sum-of-squares manner\n",
    "bart rss `bart bitmask 6` __tmp rss_image\n",
    "imshow rss_image"
   ]
  },
  {
   "cell_type": "code",
   "execution_count": null,
   "metadata": {
    "scrolled": false
   },
   "outputs": [],
   "source": [
    "# synthesize phase-cycled bSSFP-like images (time domain projection)\n",
    "bart fmac -s `bart bitmask 6` __tmp basis bSSFPsyn\n",
    "show_timesteps bSSFPsyn 0 101 202 303"
   ]
  }
 ],
 "metadata": {
  "kernelspec": {
   "display_name": "Bash",
   "language": "bash",
   "name": "bash"
  },
  "language_info": {
   "codemirror_mode": "shell",
   "file_extension": ".sh",
   "mimetype": "text/x-sh",
   "name": "bash"
  }
 },
 "nbformat": 4,
 "nbformat_minor": 4
}
